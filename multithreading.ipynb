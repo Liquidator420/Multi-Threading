{
 "cells": [
  {
   "cell_type": "code",
   "execution_count": 1,
   "metadata": {},
   "outputs": [
    {
     "name": "stdout",
     "output_type": "stream",
     "text": [
      "Num of cores are:  12\n"
     ]
    }
   ],
   "source": [
    "import multiprocessing\n",
    "\n",
    "numberOfCores = multiprocessing.cpu_count()\n",
    "print (\"Num of cores are: \", numberOfCores)\n"
   ]
  },
  {
   "cell_type": "code",
   "execution_count": 2,
   "metadata": {},
   "outputs": [
    {
     "name": "stdout",
     "output_type": "stream",
     "text": [
      "Num of threads:  6\n"
     ]
    },
    {
     "name": "stderr",
     "output_type": "stream",
     "text": [
      "C:\\Users\\Sachin\\AppData\\Local\\Temp\\ipykernel_1260\\3029599271.py:3: DeprecationWarning: activeCount() is deprecated, use active_count() instead\n",
      "  activeThread = threading.activeCount()\n"
     ]
    }
   ],
   "source": [
    "import threading\n",
    "\n",
    "activeThread = threading.activeCount()\n",
    "print (\"Num of threads: \",activeThread)"
   ]
  },
  {
   "cell_type": "code",
   "execution_count": 3,
   "metadata": {},
   "outputs": [
    {
     "ename": "ModuleNotFoundError",
     "evalue": "No module named 'numpy'",
     "output_type": "error",
     "traceback": [
      "\u001b[1;31m---------------------------------------------------------------------------\u001b[0m",
      "\u001b[1;31mModuleNotFoundError\u001b[0m                       Traceback (most recent call last)",
      "Cell \u001b[1;32mIn[3], line 4\u001b[0m\n\u001b[0;32m      1\u001b[0m \u001b[38;5;28;01mimport\u001b[39;00m \u001b[38;5;21;01mos\u001b[39;00m\u001b[38;5;241m,\u001b[39m \u001b[38;5;21;01msys\u001b[39;00m\u001b[38;5;241m,\u001b[39m \u001b[38;5;21;01mtime\u001b[39;00m\u001b[38;5;241m,\u001b[39m \u001b[38;5;21;01mthreading\u001b[39;00m\u001b[38;5;241m,\u001b[39m \u001b[38;5;21;01mmultiprocessing\u001b[39;00m\u001b[38;5;241m,\u001b[39m \u001b[38;5;21;01mrandom\u001b[39;00m \u001b[38;5;28;01mas\u001b[39;00m \u001b[38;5;21;01mr\u001b[39;00m\n\u001b[0;32m      3\u001b[0m \u001b[38;5;66;03m# Function runs for random seconds\u001b[39;00m\n\u001b[1;32m----> 4\u001b[0m \u001b[38;5;28;01mimport\u001b[39;00m \u001b[38;5;21;01mnumpy\u001b[39;00m \u001b[38;5;28;01mas\u001b[39;00m \u001b[38;5;21;01mnp\u001b[39;00m\n\u001b[0;32m      6\u001b[0m \u001b[38;5;28;01mdef\u001b[39;00m \u001b[38;5;21mgenerate_random_matrices\u001b[39m(num_matrices, matrix_size):\n\u001b[0;32m      7\u001b[0m     matrices \u001b[38;5;241m=\u001b[39m []\n",
      "\u001b[1;31mModuleNotFoundError\u001b[0m: No module named 'numpy'"
     ]
    }
   ],
   "source": [
    "import os, sys, time, threading, multiprocessing, random as r\n",
    "\n",
    "# Function runs for random seconds\n",
    "import numpy as np\n",
    "\n",
    "def generate_random_matrices(num_matrices, matrix_size):\n",
    "    matrices = []\n",
    "    for _ in range(num_matrices):\n",
    "        matrix = np.random.rand(matrix_size, matrix_size)\n",
    "        matrices.append(matrix)\n",
    "    return matrices\n",
    "\n",
    "def multiply_matrices(matrices, single_matrix):\n",
    "    result = single_matrix\n",
    "    for matrix in matrices:\n",
    "        result = np.dot(matrix, result)\n",
    "    return result\n",
    "\n",
    "def task(cmd):\n",
    "    # Generate 100 random matrices\n",
    "    num_matrices = 100\n",
    "    matrix_size = 1000\n",
    "    matrices = generate_random_matrices(num_matrices, matrix_size)\n",
    "\n",
    "    # Generate a single random matrix\n",
    "    single_matrix = np.random.rand(matrix_size, matrix_size)\n",
    "\n",
    "    # Multiply each matrix with the single matrix one by one\n",
    "    result = multiply_matrices(matrices, single_matrix)\n",
    "\n",
    "    print(\"Multiplication completed.\")\n",
    "\n",
    "cmd = 'Sample task'\n",
    "task(cmd)\n",
    "\n"
   ]
  },
  {
   "cell_type": "code",
   "execution_count": null,
   "metadata": {},
   "outputs": [],
   "source": [
    "import numpy as np\n",
    "import threading\n",
    "\n",
    "def generate_random_matrices(num_matrices, matrix_size):\n",
    "    matrices = []\n",
    "    for _ in range(num_matrices):\n",
    "        matrix = np.random.rand(matrix_size, matrix_size)\n",
    "        matrices.append(matrix)\n",
    "    return matrices\n",
    "\n",
    "def multiply_matrices(matrices, single_matrix, result, start_index, end_index):\n",
    "    for i in range(start_index, end_index):\n",
    "        result = np.dot(matrices[i], result)\n",
    "    return result\n",
    "\n",
    "def main():\n",
    "    # Generate 100 random matrices\n",
    "    num_matrices = 100\n",
    "    matrix_size = 1000\n",
    "    matrices = generate_random_matrices(num_matrices, matrix_size)\n",
    "\n",
    "    # Generate a single random matrix\n",
    "    single_matrix = np.random.rand(matrix_size, matrix_size)\n",
    "\n",
    "    # Create a result matrix\n",
    "    result = single_matrix\n",
    "\n",
    "    # Split the task into multiple threads\n",
    "    num_threads = 4\n",
    "    thread_list = []\n",
    "    chunk_size = num_matrices // num_threads\n",
    "\n",
    "    for i in range(num_threads):\n",
    "        start_index = i * chunk_size\n",
    "        end_index = start_index + chunk_size if i < num_threads - 1 else num_matrices\n",
    "        thread = threading.Thread(target=multiply_matrices, args=(matrices, single_matrix, result, start_index, end_index))\n",
    "        thread.start()\n",
    "        thread_list.append(thread)\n",
    "\n",
    "    # Wait for all threads to complete\n",
    "    for thread in thread_list:\n",
    "        thread.join()\n",
    "\n",
    "    print(\"Multiplication completed.\")\n",
    "\n",
    "if _name_ == \"_main_\":\n",
    "    main()"
   ]
  }
 ],
 "metadata": {
  "kernelspec": {
   "display_name": "Python 3",
   "language": "python",
   "name": "python3"
  },
  "language_info": {
   "codemirror_mode": {
    "name": "ipython",
    "version": 3
   },
   "file_extension": ".py",
   "mimetype": "text/x-python",
   "name": "python",
   "nbconvert_exporter": "python",
   "pygments_lexer": "ipython3",
   "version": "3.10.11"
  }
 },
 "nbformat": 4,
 "nbformat_minor": 2
}
